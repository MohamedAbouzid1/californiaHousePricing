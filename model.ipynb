{
 "cells": [
  {
   "cell_type": "code",
   "execution_count": null,
   "id": "initial_id",
   "metadata": {
    "ExecuteTime": {
     "end_time": "2024-09-14T17:21:08.013075Z",
     "start_time": "2024-09-14T17:21:06.942263Z"
    },
    "collapsed": true
   },
   "outputs": [
    {
     "ename": "",
     "evalue": "",
     "output_type": "error",
     "traceback": [
      "\u001b[1;31mRunning cells with 'venv (Python 3.7.0)' requires the ipykernel package.\n",
      "\u001b[1;31mRun the following command to install 'ipykernel' into the Python environment. \n",
      "\u001b[1;31mCommand: 'conda install -p /home/mohamed/Workspace/ML/linearRegressionProject/californiaHousePricing/venv ipykernel --update-deps --force-reinstall'"
     ]
    }
   ],
   "source": [
    "import pandas as pd\n",
    "import numpy as np\n",
    "import matplotlib.pyplot as plt\n",
    "%matplotlib inline"
   ]
  },
  {
   "cell_type": "markdown",
   "id": "753ffb2a01fabdcf",
   "metadata": {},
   "source": [
    "#### Load the dataset: Boston housing data"
   ]
  },
  {
   "cell_type": "code",
   "execution_count": 3,
   "id": "8b77c290b5cb867a",
   "metadata": {
    "ExecuteTime": {
     "end_time": "2024-09-14T17:21:08.664329Z",
     "start_time": "2024-09-14T17:21:08.014558Z"
    }
   },
   "outputs": [],
   "source": [
    "from sklearn.datasets import fetch_california_housing"
   ]
  },
  {
   "cell_type": "code",
   "execution_count": 4,
   "id": "10e0dfc6463c73c8",
   "metadata": {
    "ExecuteTime": {
     "end_time": "2024-09-14T17:21:08.694188Z",
     "start_time": "2024-09-14T17:21:08.665196Z"
    }
   },
   "outputs": [],
   "source": [
    "california = fetch_california_housing()"
   ]
  },
  {
   "cell_type": "code",
   "execution_count": null,
   "id": "25f99fcfccdd702",
   "metadata": {
    "ExecuteTime": {
     "end_time": "2024-09-14T17:21:08.699615Z",
     "start_time": "2024-09-14T17:21:08.695642Z"
    }
   },
   "outputs": [],
   "source": [
    "california.keys()"
   ]
  },
  {
   "cell_type": "code",
   "execution_count": null,
   "id": "70373f8e8871e4e2",
   "metadata": {
    "ExecuteTime": {
     "end_time": "2024-09-14T17:21:08.704924Z",
     "start_time": "2024-09-14T17:21:08.701583Z"
    }
   },
   "outputs": [],
   "source": [
    "print(california.DESCR)"
   ]
  },
  {
   "cell_type": "code",
   "execution_count": null,
   "id": "cd4e321a56d041e4",
   "metadata": {
    "ExecuteTime": {
     "end_time": "2024-09-14T17:21:08.709578Z",
     "start_time": "2024-09-14T17:21:08.705949Z"
    }
   },
   "outputs": [],
   "source": [
    "california.data"
   ]
  },
  {
   "cell_type": "code",
   "execution_count": null,
   "id": "b0e4c6121c22e9fa",
   "metadata": {
    "ExecuteTime": {
     "end_time": "2024-09-14T17:21:08.713898Z",
     "start_time": "2024-09-14T17:21:08.710348Z"
    }
   },
   "outputs": [],
   "source": [
    "california.target"
   ]
  },
  {
   "cell_type": "code",
   "execution_count": null,
   "id": "574ff8b29252746",
   "metadata": {
    "ExecuteTime": {
     "end_time": "2024-09-14T17:21:08.718059Z",
     "start_time": "2024-09-14T17:21:08.714880Z"
    }
   },
   "outputs": [],
   "source": [
    "california.feature_names"
   ]
  },
  {
   "cell_type": "markdown",
   "id": "e1da75a24e2c192b",
   "metadata": {},
   "source": [
    "### Prepare the data"
   ]
  },
  {
   "cell_type": "code",
   "execution_count": 10,
   "id": "8df393125d913fde",
   "metadata": {
    "ExecuteTime": {
     "end_time": "2024-09-14T17:21:08.722553Z",
     "start_time": "2024-09-14T17:21:08.719041Z"
    }
   },
   "outputs": [],
   "source": [
    "dataset = pd.DataFrame(data=california.data, columns=california.feature_names)"
   ]
  },
  {
   "cell_type": "code",
   "execution_count": null,
   "id": "7926736e2da1ce74",
   "metadata": {
    "ExecuteTime": {
     "end_time": "2024-09-14T17:21:08.736553Z",
     "start_time": "2024-09-14T17:21:08.725405Z"
    }
   },
   "outputs": [],
   "source": [
    "dataset.head()"
   ]
  },
  {
   "cell_type": "code",
   "execution_count": 12,
   "id": "54761844d4fb6b22",
   "metadata": {
    "ExecuteTime": {
     "end_time": "2024-09-14T17:21:08.756747Z",
     "start_time": "2024-09-14T17:21:08.737682Z"
    }
   },
   "outputs": [],
   "source": [
    "dataset['price'] = california.target"
   ]
  },
  {
   "cell_type": "code",
   "execution_count": null,
   "id": "e590ae1fadd46ea",
   "metadata": {
    "ExecuteTime": {
     "end_time": "2024-09-14T17:21:08.769860Z",
     "start_time": "2024-09-14T17:21:08.759155Z"
    }
   },
   "outputs": [],
   "source": [
    "dataset.head()"
   ]
  },
  {
   "cell_type": "code",
   "execution_count": null,
   "id": "adbe2180eebe0225",
   "metadata": {
    "ExecuteTime": {
     "end_time": "2024-09-14T17:22:01.412079Z",
     "start_time": "2024-09-14T17:22:01.398386Z"
    }
   },
   "outputs": [],
   "source": [
    "dataset.head()"
   ]
  },
  {
   "cell_type": "markdown",
   "id": "fed24d9959ce3678",
   "metadata": {},
   "source": [
    "### Analysis:"
   ]
  },
  {
   "cell_type": "code",
   "execution_count": null,
   "id": "5a15bdfea8e1e51c",
   "metadata": {
    "ExecuteTime": {
     "end_time": "2024-09-14T17:22:22.453283Z",
     "start_time": "2024-09-14T17:22:22.446080Z"
    }
   },
   "outputs": [],
   "source": [
    "dataset.info()"
   ]
  },
  {
   "cell_type": "markdown",
   "id": "af531d825b9abf6f",
   "metadata": {},
   "source": [
    "### Summarizing the stats of the dataset"
   ]
  },
  {
   "cell_type": "code",
   "execution_count": null,
   "id": "82177726e602c1d9",
   "metadata": {
    "ExecuteTime": {
     "end_time": "2024-09-14T17:22:22.650057Z",
     "start_time": "2024-09-14T17:22:22.628591Z"
    }
   },
   "outputs": [],
   "source": [
    "dataset.describe()"
   ]
  },
  {
   "cell_type": "markdown",
   "id": "c591bb142904a300",
   "metadata": {},
   "source": [
    "### Check the missing values"
   ]
  },
  {
   "cell_type": "code",
   "execution_count": null,
   "id": "ff5b895092ba56ec",
   "metadata": {
    "ExecuteTime": {
     "end_time": "2024-09-14T17:22:22.659616Z",
     "start_time": "2024-09-14T17:22:22.651075Z"
    }
   },
   "outputs": [],
   "source": [
    "dataset.isnull()"
   ]
  },
  {
   "cell_type": "code",
   "execution_count": null,
   "id": "b078b172e62a8c51",
   "metadata": {
    "ExecuteTime": {
     "end_time": "2024-09-14T17:22:22.664086Z",
     "start_time": "2024-09-14T17:22:22.660388Z"
    }
   },
   "outputs": [],
   "source": [
    "dataset.isnull().sum()"
   ]
  },
  {
   "cell_type": "markdown",
   "id": "3993f70b00c98524",
   "metadata": {},
   "source": [
    "### Exploratory Data Analysis:\n",
    "#### Correlation"
   ]
  },
  {
   "cell_type": "code",
   "execution_count": null,
   "id": "cc1fee0d73d06284",
   "metadata": {
    "ExecuteTime": {
     "end_time": "2024-09-14T17:22:22.708964Z",
     "start_time": "2024-09-14T17:22:22.696144Z"
    }
   },
   "outputs": [],
   "source": [
    "# in the correlation matrix, we can see the correlation between the features and the target variable\n",
    "# and we need to check for multicollinearity between the features\n",
    "dataset.corr()"
   ]
  },
  {
   "cell_type": "code",
   "execution_count": null,
   "id": "a1ca7102565ceb4b",
   "metadata": {
    "ExecuteTime": {
     "end_time": "2024-09-14T17:22:22.927587Z",
     "start_time": "2024-09-14T17:22:22.718799Z"
    }
   },
   "outputs": [],
   "source": [
    "plt.scatter(dataset['MedInc'], dataset['price'])"
   ]
  },
  {
   "cell_type": "code",
   "execution_count": null,
   "id": "7707b1ec7824c5fe",
   "metadata": {
    "ExecuteTime": {
     "end_time": "2024-09-14T17:22:23.097584Z",
     "start_time": "2024-09-14T17:22:22.928552Z"
    }
   },
   "outputs": [],
   "source": [
    "plt.scatter(dataset['HouseAge'], dataset['price'])"
   ]
  },
  {
   "cell_type": "code",
   "execution_count": null,
   "id": "5c7ac6b93ec2351d",
   "metadata": {
    "ExecuteTime": {
     "end_time": "2024-09-14T17:22:23.317822Z",
     "start_time": "2024-09-14T17:22:23.098407Z"
    }
   },
   "outputs": [],
   "source": [
    "plt.scatter(dataset['AveRooms'], dataset['price'])"
   ]
  },
  {
   "cell_type": "code",
   "execution_count": null,
   "id": "279333046d685179",
   "metadata": {
    "ExecuteTime": {
     "end_time": "2024-09-14T17:22:23.460971Z",
     "start_time": "2024-09-14T17:22:23.319454Z"
    }
   },
   "outputs": [],
   "source": [
    "plt.scatter(dataset['AveBedrms'], dataset['price'])"
   ]
  },
  {
   "cell_type": "code",
   "execution_count": null,
   "id": "b457a0857c2de8ac",
   "metadata": {
    "ExecuteTime": {
     "end_time": "2024-09-14T17:22:23.621840Z",
     "start_time": "2024-09-14T17:22:23.461870Z"
    }
   },
   "outputs": [],
   "source": [
    "plt.scatter(dataset['Population'], dataset['price'])\n",
    "plt.xlabel('Population')\n",
    "plt.ylabel('Price')"
   ]
  },
  {
   "cell_type": "code",
   "execution_count": null,
   "id": "a7b8108280476b20",
   "metadata": {
    "ExecuteTime": {
     "end_time": "2024-09-14T17:22:23.808499Z",
     "start_time": "2024-09-14T17:22:23.623089Z"
    }
   },
   "outputs": [],
   "source": [
    "plt.scatter(dataset['AveBedrms'], dataset['price'])"
   ]
  },
  {
   "cell_type": "code",
   "execution_count": null,
   "id": "52cdfb7d6c8452da",
   "metadata": {
    "ExecuteTime": {
     "end_time": "2024-09-14T17:23:02.669552Z",
     "start_time": "2024-09-14T17:23:01.686192Z"
    }
   },
   "outputs": [],
   "source": [
    "import seaborn as sns\n",
    "sns.regplot(x='MedInc', y='price', data=dataset)"
   ]
  },
  {
   "cell_type": "code",
   "execution_count": null,
   "id": "788dc7f5f9cd259f",
   "metadata": {
    "ExecuteTime": {
     "end_time": "2024-09-14T17:23:12.522313Z",
     "start_time": "2024-09-14T17:23:11.399781Z"
    }
   },
   "outputs": [],
   "source": [
    "sns.regplot(x='MedInc', y='price', data=dataset)"
   ]
  },
  {
   "cell_type": "code",
   "execution_count": null,
   "id": "4acbbc765ebdf91e",
   "metadata": {
    "ExecuteTime": {
     "end_time": "2024-09-14T17:23:12.538821Z",
     "start_time": "2024-09-14T17:23:12.523856Z"
    }
   },
   "outputs": [],
   "source": [
    "# Dependent and Independent variables\n",
    "\n",
    "dataset"
   ]
  },
  {
   "cell_type": "code",
   "execution_count": 36,
   "id": "35ae28da815ef5a9",
   "metadata": {
    "ExecuteTime": {
     "end_time": "2024-09-14T17:23:12.564107Z",
     "start_time": "2024-09-14T17:23:12.539993Z"
    }
   },
   "outputs": [],
   "source": [
    "X = dataset.iloc[:, :-1]\n",
    "y = dataset.iloc[:,-1]"
   ]
  },
  {
   "cell_type": "code",
   "execution_count": null,
   "id": "7749b0e513aeaf8",
   "metadata": {
    "ExecuteTime": {
     "end_time": "2024-09-14T17:23:12.576504Z",
     "start_time": "2024-09-14T17:23:12.566267Z"
    }
   },
   "outputs": [],
   "source": [
    "X.head()"
   ]
  },
  {
   "cell_type": "code",
   "execution_count": null,
   "id": "5e1515a73369349d",
   "metadata": {
    "ExecuteTime": {
     "end_time": "2024-09-14T17:23:12.581943Z",
     "start_time": "2024-09-14T17:23:12.577382Z"
    }
   },
   "outputs": [],
   "source": [
    "y.head()"
   ]
  },
  {
   "cell_type": "code",
   "execution_count": 39,
   "id": "ffae63b82d979c39",
   "metadata": {
    "ExecuteTime": {
     "end_time": "2024-09-14T17:23:12.640072Z",
     "start_time": "2024-09-14T17:23:12.582792Z"
    }
   },
   "outputs": [],
   "source": [
    "## Split the data into training and testing\n",
    "from sklearn.model_selection import train_test_split\n",
    "\n",
    "X_train, X_test, y_train, y_test = train_test_split(X, y, test_size=0.3, random_state=42)"
   ]
  },
  {
   "cell_type": "code",
   "execution_count": null,
   "id": "f73e3d44380e3f6b",
   "metadata": {
    "ExecuteTime": {
     "end_time": "2024-09-14T17:23:12.649269Z",
     "start_time": "2024-09-14T17:23:12.641057Z"
    }
   },
   "outputs": [],
   "source": [
    "X_train.head()"
   ]
  },
  {
   "cell_type": "code",
   "execution_count": null,
   "id": "9d322042b0beb274",
   "metadata": {
    "ExecuteTime": {
     "end_time": "2024-09-14T17:23:12.654361Z",
     "start_time": "2024-09-14T17:23:12.650357Z"
    }
   },
   "outputs": [],
   "source": [
    "y_train.head()"
   ]
  },
  {
   "cell_type": "code",
   "execution_count": null,
   "id": "6ee9165bd723d9a8",
   "metadata": {
    "ExecuteTime": {
     "end_time": "2024-09-14T17:23:12.663268Z",
     "start_time": "2024-09-14T17:23:12.655158Z"
    }
   },
   "outputs": [],
   "source": [
    "X_test.head()"
   ]
  },
  {
   "cell_type": "code",
   "execution_count": null,
   "id": "eca41e683c71cbf",
   "metadata": {
    "ExecuteTime": {
     "end_time": "2024-09-14T17:23:12.668868Z",
     "start_time": "2024-09-14T17:23:12.665484Z"
    }
   },
   "outputs": [],
   "source": [
    "y_test.head()"
   ]
  },
  {
   "cell_type": "code",
   "execution_count": null,
   "id": "a3866a1288fcdbdb",
   "metadata": {
    "ExecuteTime": {
     "end_time": "2024-09-14T17:23:12.672625Z",
     "start_time": "2024-09-14T17:23:12.669577Z"
    }
   },
   "outputs": [],
   "source": [
    "X_train.shape"
   ]
  },
  {
   "cell_type": "code",
   "execution_count": null,
   "id": "7ad9f51db524a976",
   "metadata": {
    "ExecuteTime": {
     "end_time": "2024-09-14T17:23:12.675974Z",
     "start_time": "2024-09-14T17:23:12.673411Z"
    }
   },
   "outputs": [],
   "source": [
    "X_test.shape"
   ]
  },
  {
   "cell_type": "markdown",
   "id": "87b0279255789293",
   "metadata": {},
   "source": [
    "### Standardize the dataset"
   ]
  },
  {
   "cell_type": "code",
   "execution_count": 46,
   "id": "f072cf8a65c2aced",
   "metadata": {
    "ExecuteTime": {
     "end_time": "2024-09-14T17:23:12.679685Z",
     "start_time": "2024-09-14T17:23:12.676808Z"
    }
   },
   "outputs": [],
   "source": [
    "from sklearn.preprocessing import StandardScaler\n",
    "scaler = StandardScaler()"
   ]
  },
  {
   "cell_type": "code",
   "execution_count": 47,
   "id": "97f44d7476acb984",
   "metadata": {
    "ExecuteTime": {
     "end_time": "2024-09-14T17:23:12.687611Z",
     "start_time": "2024-09-14T17:23:12.680689Z"
    }
   },
   "outputs": [],
   "source": [
    "X_train = scaler.fit_transform(X_train)"
   ]
  },
  {
   "cell_type": "code",
   "execution_count": 48,
   "id": "15da173e4c75ccdd",
   "metadata": {
    "ExecuteTime": {
     "end_time": "2024-09-14T17:23:12.692823Z",
     "start_time": "2024-09-14T17:23:12.688577Z"
    }
   },
   "outputs": [],
   "source": [
    "X_test = scaler.transform(X_test)"
   ]
  },
  {
   "cell_type": "code",
   "execution_count": null,
   "id": "694f8e3f",
   "metadata": {},
   "outputs": [],
   "source": [
    "import pickle\n",
    "pickle.dump(scaler, open('scaling.pkl', 'wb'))"
   ]
  },
  {
   "cell_type": "code",
   "execution_count": null,
   "id": "7becdc38c76db617",
   "metadata": {
    "ExecuteTime": {
     "end_time": "2024-09-14T17:23:12.714394Z",
     "start_time": "2024-09-14T17:23:12.693877Z"
    }
   },
   "outputs": [],
   "source": [
    "X_train"
   ]
  },
  {
   "cell_type": "markdown",
   "id": "ff467ebeb6d8e6c9",
   "metadata": {},
   "source": [
    "### Model Building"
   ]
  },
  {
   "cell_type": "code",
   "execution_count": 50,
   "id": "b15a109ace73ac08",
   "metadata": {
    "ExecuteTime": {
     "end_time": "2024-09-14T17:23:12.754095Z",
     "start_time": "2024-09-14T17:23:12.715968Z"
    }
   },
   "outputs": [],
   "source": [
    "from sklearn.linear_model import LinearRegression"
   ]
  },
  {
   "cell_type": "code",
   "execution_count": 51,
   "id": "b9c79bdb7f067af0",
   "metadata": {
    "ExecuteTime": {
     "end_time": "2024-09-14T17:23:12.757280Z",
     "start_time": "2024-09-14T17:23:12.754995Z"
    }
   },
   "outputs": [],
   "source": [
    "regression = LinearRegression()"
   ]
  },
  {
   "cell_type": "code",
   "execution_count": null,
   "id": "c6df35d0a22dfbf5",
   "metadata": {
    "ExecuteTime": {
     "end_time": "2024-09-14T17:23:12.766194Z",
     "start_time": "2024-09-14T17:23:12.758058Z"
    }
   },
   "outputs": [],
   "source": [
    "regression.fit(X_train, y_train)"
   ]
  },
  {
   "cell_type": "code",
   "execution_count": null,
   "id": "1e0fdd9943aaa05",
   "metadata": {
    "ExecuteTime": {
     "end_time": "2024-09-14T17:23:12.769401Z",
     "start_time": "2024-09-14T17:23:12.766936Z"
    }
   },
   "outputs": [],
   "source": [
    "### Print the coefficients\n",
    "print(regression.coef_)\n",
    "# the coefficients are the weights of the features"
   ]
  },
  {
   "cell_type": "code",
   "execution_count": null,
   "id": "91e25f38dc06f555",
   "metadata": {
    "ExecuteTime": {
     "end_time": "2024-09-14T17:23:12.772543Z",
     "start_time": "2024-09-14T17:23:12.770196Z"
    }
   },
   "outputs": [],
   "source": [
    "print(regression.intercept_)"
   ]
  },
  {
   "cell_type": "code",
   "execution_count": null,
   "id": "d2244712eb5720df",
   "metadata": {
    "ExecuteTime": {
     "end_time": "2024-09-14T17:23:12.776815Z",
     "start_time": "2024-09-14T17:23:12.773305Z"
    }
   },
   "outputs": [],
   "source": [
    "## on which features the model is trained\n",
    "regression.get_params()"
   ]
  },
  {
   "cell_type": "code",
   "execution_count": 56,
   "id": "7b2022fd20de7be1",
   "metadata": {
    "ExecuteTime": {
     "end_time": "2024-09-14T17:23:12.781085Z",
     "start_time": "2024-09-14T17:23:12.777783Z"
    }
   },
   "outputs": [],
   "source": [
    "## predict the values\n",
    "y_pred = regression.predict(X_test)"
   ]
  },
  {
   "cell_type": "code",
   "execution_count": null,
   "id": "efe1ba85ec2d3932",
   "metadata": {
    "ExecuteTime": {
     "end_time": "2024-09-14T17:23:12.787547Z",
     "start_time": "2024-09-14T17:23:12.782264Z"
    }
   },
   "outputs": [],
   "source": [
    "y_pred"
   ]
  },
  {
   "cell_type": "code",
   "execution_count": null,
   "id": "40a364bd4be63511",
   "metadata": {
    "ExecuteTime": {
     "end_time": "2024-09-14T17:23:12.944830Z",
     "start_time": "2024-09-14T17:23:12.788727Z"
    }
   },
   "outputs": [],
   "source": [
    "# plot a scatter plot between the actual and predicted values\n",
    "plt.scatter(y_test, y_pred)"
   ]
  },
  {
   "cell_type": "code",
   "execution_count": 59,
   "id": "d23141ee28b736af",
   "metadata": {
    "ExecuteTime": {
     "end_time": "2024-09-14T17:23:12.949616Z",
     "start_time": "2024-09-14T17:23:12.945939Z"
    }
   },
   "outputs": [],
   "source": [
    "# prediction with respect to the residuals\n",
    "residuals = y_test - y_pred"
   ]
  },
  {
   "cell_type": "code",
   "execution_count": null,
   "id": "bff6ee7da7e7cc8b",
   "metadata": {
    "ExecuteTime": {
     "end_time": "2024-09-14T17:23:23.734655Z",
     "start_time": "2024-09-14T17:23:23.730517Z"
    }
   },
   "outputs": [],
   "source": [
    "residuals"
   ]
  },
  {
   "cell_type": "code",
   "execution_count": null,
   "id": "2da27e4243e8569e",
   "metadata": {
    "ExecuteTime": {
     "end_time": "2024-09-14T17:36:58.537778Z",
     "start_time": "2024-09-14T17:36:58.362763Z"
    }
   },
   "outputs": [],
   "source": [
    "## plot the residuals\n",
    "\n",
    "sns.displot(residuals, kind='kde')"
   ]
  },
  {
   "cell_type": "code",
   "execution_count": null,
   "id": "cc5e0e05e7543515",
   "metadata": {},
   "outputs": [],
   "source": [
    "# the plot should be normally distributed but we have some outliers"
   ]
  },
  {
   "cell_type": "code",
   "execution_count": null,
   "id": "9673e7115a7c4a27",
   "metadata": {
    "ExecuteTime": {
     "end_time": "2024-09-14T17:39:36.892429Z",
     "start_time": "2024-09-14T17:39:36.761439Z"
    }
   },
   "outputs": [],
   "source": [
    "# scatter plot between the residuals and the predicted values\n",
    "# unfirom distribution of the residuals and the predicted values\n",
    "plt.scatter(y_pred, residuals)"
   ]
  },
  {
   "cell_type": "code",
   "execution_count": null,
   "id": "82f63ef134ec9d86",
   "metadata": {
    "ExecuteTime": {
     "end_time": "2024-09-14T17:45:52.951377Z",
     "start_time": "2024-09-14T17:45:52.946274Z"
    }
   },
   "outputs": [],
   "source": [
    "# to be sure that the model is doing well, we need a performance metric\n",
    "\n",
    "from sklearn.metrics import mean_squared_error\n",
    "from sklearn.metrics import mean_absolute_error\n",
    "from sklearn.metrics import r2_score\n",
    "print('Mean Absolute Error:', mean_absolute_error(y_test, y_pred))\n",
    "print('Mean Squared Error:', mean_squared_error(y_test, y_pred))\n",
    "print('Root Mean Squared Error:', np.sqrt(mean_squared_error(y_test, y_pred)))\n",
    "print('R2 Score:', r2_score(y_test, y_pred))"
   ]
  },
  {
   "cell_type": "code",
   "execution_count": 65,
   "id": "7df1751ad84fdad4",
   "metadata": {
    "ExecuteTime": {
     "end_time": "2024-09-14T17:47:42.090443Z",
     "start_time": "2024-09-14T17:47:42.087387Z"
    }
   },
   "outputs": [],
   "source": [
    "# the more the R2 score is closer to 1, the better the model is\n",
    "r2_score = r2_score(y_test, y_pred)\n",
    "\n",
    "adj_r2 = 1 - (1 - r2_score) * (len(y_test) - 1) / (len(y_test) - X_test.shape[1] - 1)"
   ]
  },
  {
   "cell_type": "code",
   "execution_count": null,
   "id": "8ccbf872494a40a7",
   "metadata": {
    "ExecuteTime": {
     "end_time": "2024-09-14T17:47:44.800624Z",
     "start_time": "2024-09-14T17:47:44.797642Z"
    }
   },
   "outputs": [],
   "source": [
    "adj_r2"
   ]
  },
  {
   "cell_type": "markdown",
   "id": "98121db2c7c74cff",
   "metadata": {},
   "source": [
    "### New Data Prediction:"
   ]
  },
  {
   "cell_type": "code",
   "execution_count": null,
   "id": "fff4db9acf2b99e9",
   "metadata": {
    "ExecuteTime": {
     "end_time": "2024-09-14T18:01:28.247993Z",
     "start_time": "2024-09-14T18:01:28.243836Z"
    }
   },
   "outputs": [],
   "source": [
    "## transformation of new data\n",
    "\n",
    "scaler.transform(california.data[0].reshape(1, -1))"
   ]
  },
  {
   "cell_type": "code",
   "execution_count": null,
   "id": "3e1ea21f56e8f44c",
   "metadata": {
    "ExecuteTime": {
     "end_time": "2024-09-14T18:01:42.294785Z",
     "start_time": "2024-09-14T18:01:42.290338Z"
    }
   },
   "outputs": [],
   "source": [
    "\n",
    "\n",
    "regression.predict(scaler.transform(california.data[0].reshape(1, -1)))\n",
    "# what we did here is to reshape the data to a 2D array instead of a 1D array"
   ]
  },
  {
   "cell_type": "markdown",
   "id": "677c3564d598c584",
   "metadata": {},
   "source": [
    "### Pickling the model"
   ]
  },
  {
   "cell_type": "code",
   "execution_count": 74,
   "id": "ed7ad3aef79b1c73",
   "metadata": {
    "ExecuteTime": {
     "end_time": "2024-09-14T18:04:09.092902Z",
     "start_time": "2024-09-14T18:04:09.090831Z"
    }
   },
   "outputs": [],
   "source": [
    "import pickle"
   ]
  },
  {
   "cell_type": "code",
   "execution_count": 75,
   "id": "c3aa88a146613e78",
   "metadata": {
    "ExecuteTime": {
     "end_time": "2024-09-14T18:05:05.253829Z",
     "start_time": "2024-09-14T18:05:05.251100Z"
    }
   },
   "outputs": [],
   "source": [
    "pickle.dump(regression, open('regmodel.pkl', 'wb'))"
   ]
  },
  {
   "cell_type": "code",
   "execution_count": 76,
   "id": "6fd2f3dcf836d542",
   "metadata": {
    "ExecuteTime": {
     "end_time": "2024-09-14T18:05:35.940094Z",
     "start_time": "2024-09-14T18:05:35.937916Z"
    }
   },
   "outputs": [],
   "source": [
    "# load the model\n",
    "model = pickle.load(open('regmodel.pkl', 'rb'))"
   ]
  },
  {
   "cell_type": "code",
   "execution_count": null,
   "id": "35f26df9bc5c6f58",
   "metadata": {
    "ExecuteTime": {
     "end_time": "2024-09-14T18:06:09.350277Z",
     "start_time": "2024-09-14T18:06:09.346765Z"
    }
   },
   "outputs": [],
   "source": [
    "# prediction with the loaded model\n",
    "model.predict(scaler.transform(california.data[0].reshape(1, -1)))"
   ]
  },
  {
   "cell_type": "code",
   "execution_count": null,
   "id": "9a92e636a13a7e82",
   "metadata": {},
   "outputs": [],
   "source": []
  }
 ],
 "metadata": {
  "kernelspec": {
   "display_name": "Python 3",
   "language": "python",
   "name": "python3"
  },
  "language_info": {
   "codemirror_mode": {
    "name": "ipython",
    "version": 2
   },
   "file_extension": ".py",
   "mimetype": "text/x-python",
   "name": "python",
   "nbconvert_exporter": "python",
   "pygments_lexer": "ipython2",
   "version": "3.7.0"
  }
 },
 "nbformat": 4,
 "nbformat_minor": 5
}
